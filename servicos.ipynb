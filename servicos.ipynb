{
 "cells": [
  {
   "cell_type": "code",
   "execution_count": 6,
   "metadata": {},
   "outputs": [],
   "source": [
    "import pandas as pd\n",
    "import numpy as np\n",
    "from sklearn.ensemble import RandomForestClassifier\n",
    "from sklearn.multioutput import MultiOutputClassifier"
   ]
  },
  {
   "cell_type": "code",
   "execution_count": 7,
   "metadata": {},
   "outputs": [
    {
     "data": {
      "text/html": [
       "<div>\n",
       "<style scoped>\n",
       "    .dataframe tbody tr th:only-of-type {\n",
       "        vertical-align: middle;\n",
       "    }\n",
       "\n",
       "    .dataframe tbody tr th {\n",
       "        vertical-align: top;\n",
       "    }\n",
       "\n",
       "    .dataframe thead th {\n",
       "        text-align: right;\n",
       "    }\n",
       "</style>\n",
       "<table border=\"1\" class=\"dataframe\">\n",
       "  <thead>\n",
       "    <tr style=\"text-align: right;\">\n",
       "      <th></th>\n",
       "      <th>id</th>\n",
       "      <th>tags</th>\n",
       "      <th>taken</th>\n",
       "      <th>latitude</th>\n",
       "      <th>longitude</th>\n",
       "      <th>accuracy</th>\n",
       "      <th>Tipo de análise</th>\n",
       "      <th>1</th>\n",
       "      <th>2</th>\n",
       "      <th>3</th>\n",
       "      <th>...</th>\n",
       "      <th>5</th>\n",
       "      <th>6</th>\n",
       "      <th>7</th>\n",
       "      <th>8</th>\n",
       "      <th>9</th>\n",
       "      <th>10</th>\n",
       "      <th>11</th>\n",
       "      <th>12</th>\n",
       "      <th>n_sec</th>\n",
       "      <th>secs</th>\n",
       "    </tr>\n",
       "  </thead>\n",
       "  <tbody>\n",
       "    <tr>\n",
       "      <th>0</th>\n",
       "      <td>241150943</td>\n",
       "      <td>building | city | city skyline | city view | f...</td>\n",
       "      <td>11/9/2006 23:26</td>\n",
       "      <td>-19,950054</td>\n",
       "      <td>-43,908405</td>\n",
       "      <td>140</td>\n",
       "      <td>Levantamento e Mapeamento dos SEC</td>\n",
       "      <td>1</td>\n",
       "      <td>1</td>\n",
       "      <td>0</td>\n",
       "      <td>...</td>\n",
       "      <td>0</td>\n",
       "      <td>0</td>\n",
       "      <td>0</td>\n",
       "      <td>0</td>\n",
       "      <td>0</td>\n",
       "      <td>0</td>\n",
       "      <td>0</td>\n",
       "      <td>0</td>\n",
       "      <td>1</td>\n",
       "      <td>2</td>\n",
       "    </tr>\n",
       "    <tr>\n",
       "      <th>1</th>\n",
       "      <td>241150968</td>\n",
       "      <td>city | hill | hillside | mound | mountain | peak</td>\n",
       "      <td>11/9/2006 23:26</td>\n",
       "      <td>-19,950054</td>\n",
       "      <td>-43,908405</td>\n",
       "      <td>140</td>\n",
       "      <td>Levantamento e Mapeamento dos SEC</td>\n",
       "      <td>1</td>\n",
       "      <td>1</td>\n",
       "      <td>0</td>\n",
       "      <td>...</td>\n",
       "      <td>0</td>\n",
       "      <td>0</td>\n",
       "      <td>0</td>\n",
       "      <td>0</td>\n",
       "      <td>0</td>\n",
       "      <td>0</td>\n",
       "      <td>0</td>\n",
       "      <td>0</td>\n",
       "      <td>2</td>\n",
       "      <td>1,2</td>\n",
       "    </tr>\n",
       "    <tr>\n",
       "      <th>2</th>\n",
       "      <td>241151010</td>\n",
       "      <td>dry | field | grass | grassy | sky | weed</td>\n",
       "      <td>11/9/2006 23:27</td>\n",
       "      <td>-19,950054</td>\n",
       "      <td>-43,908405</td>\n",
       "      <td>140</td>\n",
       "      <td>Levantamento e Mapeamento dos SEC</td>\n",
       "      <td>0</td>\n",
       "      <td>0</td>\n",
       "      <td>1</td>\n",
       "      <td>...</td>\n",
       "      <td>0</td>\n",
       "      <td>0</td>\n",
       "      <td>0</td>\n",
       "      <td>0</td>\n",
       "      <td>0</td>\n",
       "      <td>0</td>\n",
       "      <td>0</td>\n",
       "      <td>0</td>\n",
       "      <td>1</td>\n",
       "      <td>3</td>\n",
       "    </tr>\n",
       "    <tr>\n",
       "      <th>3</th>\n",
       "      <td>241151052</td>\n",
       "      <td>city | city view | hill | hillside | mountain ...</td>\n",
       "      <td>11/9/2006 23:27</td>\n",
       "      <td>-19,950114</td>\n",
       "      <td>-43,908619</td>\n",
       "      <td>140</td>\n",
       "      <td>Levantamento e Mapeamento dos SEC</td>\n",
       "      <td>1</td>\n",
       "      <td>1</td>\n",
       "      <td>0</td>\n",
       "      <td>...</td>\n",
       "      <td>0</td>\n",
       "      <td>0</td>\n",
       "      <td>0</td>\n",
       "      <td>0</td>\n",
       "      <td>0</td>\n",
       "      <td>0</td>\n",
       "      <td>0</td>\n",
       "      <td>0</td>\n",
       "      <td>3</td>\n",
       "      <td>1,2,4</td>\n",
       "    </tr>\n",
       "    <tr>\n",
       "      <th>4</th>\n",
       "      <td>241151101</td>\n",
       "      <td>bud | dry | flower | grow | hill | hillside | ...</td>\n",
       "      <td>11/9/2006 23:29</td>\n",
       "      <td>-19,95084</td>\n",
       "      <td>-43,908233</td>\n",
       "      <td>130</td>\n",
       "      <td>Levantamento e Mapeamento dos SEC</td>\n",
       "      <td>0</td>\n",
       "      <td>0</td>\n",
       "      <td>1</td>\n",
       "      <td>...</td>\n",
       "      <td>0</td>\n",
       "      <td>0</td>\n",
       "      <td>0</td>\n",
       "      <td>0</td>\n",
       "      <td>0</td>\n",
       "      <td>0</td>\n",
       "      <td>0</td>\n",
       "      <td>0</td>\n",
       "      <td>1</td>\n",
       "      <td>3</td>\n",
       "    </tr>\n",
       "  </tbody>\n",
       "</table>\n",
       "<p>5 rows × 21 columns</p>\n",
       "</div>"
      ],
      "text/plain": [
       "          id                                               tags  \\\n",
       "0  241150943  building | city | city skyline | city view | f...   \n",
       "1  241150968   city | hill | hillside | mound | mountain | peak   \n",
       "2  241151010          dry | field | grass | grassy | sky | weed   \n",
       "3  241151052  city | city view | hill | hillside | mountain ...   \n",
       "4  241151101  bud | dry | flower | grow | hill | hillside | ...   \n",
       "\n",
       "             taken    latitude   longitude  accuracy  \\\n",
       "0  11/9/2006 23:26  -19,950054  -43,908405       140   \n",
       "1  11/9/2006 23:26  -19,950054  -43,908405       140   \n",
       "2  11/9/2006 23:27  -19,950054  -43,908405       140   \n",
       "3  11/9/2006 23:27  -19,950114  -43,908619       140   \n",
       "4  11/9/2006 23:29   -19,95084  -43,908233       130   \n",
       "\n",
       "                     Tipo de análise  1  2  3  ...  5  6  7  8  9  10  11  12  \\\n",
       "0  Levantamento e Mapeamento dos SEC  1  1  0  ...  0  0  0  0  0   0   0   0   \n",
       "1  Levantamento e Mapeamento dos SEC  1  1  0  ...  0  0  0  0  0   0   0   0   \n",
       "2  Levantamento e Mapeamento dos SEC  0  0  1  ...  0  0  0  0  0   0   0   0   \n",
       "3  Levantamento e Mapeamento dos SEC  1  1  0  ...  0  0  0  0  0   0   0   0   \n",
       "4  Levantamento e Mapeamento dos SEC  0  0  1  ...  0  0  0  0  0   0   0   0   \n",
       "\n",
       "   n_sec   secs  \n",
       "0      1      2  \n",
       "1      2    1,2  \n",
       "2      1      3  \n",
       "3      3  1,2,4  \n",
       "4      1      3  \n",
       "\n",
       "[5 rows x 21 columns]"
      ]
     },
     "execution_count": 7,
     "metadata": {},
     "output_type": "execute_result"
    }
   ],
   "source": [
    "# Open the file with the data\n",
    "# df = pd.read_csv('servicos.csv', sep=';')\n",
    "df = pd.read_csv(\"servicos_atualizado.csv\")\n",
    "df.dropna(inplace=True)\n",
    "df.head()"
   ]
  },
  {
   "cell_type": "code",
   "execution_count": 8,
   "metadata": {},
   "outputs": [
    {
     "data": {
      "text/plain": [
       "253"
      ]
     },
     "execution_count": 8,
     "metadata": {},
     "output_type": "execute_result"
    }
   ],
   "source": [
    "# Create a bag of words and a matrix representing if that word is in the text\n",
    "bag_of_words = set()\n",
    "for row in df[\"tags\"]:\n",
    "    for word in row.replace(\" \", \"\").split(\"|\"):\n",
    "        bag_of_words.add(word)\n",
    "\n",
    "bag_of_words = list(bag_of_words)\n",
    "bag_of_words.sort()\n",
    "len(bag_of_words)"
   ]
  },
  {
   "cell_type": "code",
   "execution_count": 60,
   "metadata": {},
   "outputs": [
    {
     "data": {
      "text/plain": [
       "['1', '2', '3', '4', '6', '8', '10', '11', '12']"
      ]
     },
     "execution_count": 60,
     "metadata": {},
     "output_type": "execute_result"
    }
   ],
   "source": [
    "# Create a bag of words to represent the classes\n",
    "classes = set()\n",
    "for row in df[\"secs\"]:\n",
    "    for classe in row.replace(\" \", \"\").split(\",\"):\n",
    "        classes.add(int(classe))\n",
    "\n",
    "classes = list(classes)\n",
    "classes.sort()\n",
    "classes = [str(classe) for classe in classes]\n",
    "classes"
   ]
  },
  {
   "cell_type": "code",
   "execution_count": 61,
   "metadata": {},
   "outputs": [],
   "source": [
    "# Create a matrix where each row is a text and each column is a word\n",
    "matrix = []\n",
    "for row in df[\"tags\"]:\n",
    "    matrix.append([1 if word in row.replace(\" \", \"\").split(\"|\") else 0 for word in bag_of_words])\n",
    "\n",
    "matrix = np.array(matrix)"
   ]
  },
  {
   "cell_type": "code",
   "execution_count": 62,
   "metadata": {},
   "outputs": [
    {
     "data": {
      "text/plain": [
       "(189, 253)"
      ]
     },
     "execution_count": 62,
     "metadata": {},
     "output_type": "execute_result"
    }
   ],
   "source": [
    "matrix.shape"
   ]
  },
  {
   "cell_type": "code",
   "execution_count": 63,
   "metadata": {},
   "outputs": [
    {
     "data": {
      "image/png": "[encoded data removed]",
      "text/plain": [
       "<Figure size 600x600 with 1 Axes>"
      ]
     },
     "metadata": {},
     "output_type": "display_data"
    }
   ],
   "source": [
    "# Vizualize the matrix as a image\n",
    "import matplotlib.pyplot as plt\n",
    "# Size of the image 10x10\n",
    "plt.figure(figsize=(6,6))\n",
    "plt.imshow(matrix.T, cmap='hot')\n",
    "plt.show()"
   ]
  },
  {
   "cell_type": "code",
   "execution_count": 64,
   "metadata": {},
   "outputs": [
    {
     "data": {
      "text/plain": [
       "array([[0, 1, 0, ..., 0, 0, 0],\n",
       "       [1, 1, 0, ..., 0, 0, 0],\n",
       "       [0, 0, 1, ..., 0, 0, 0],\n",
       "       ...,\n",
       "       [1, 1, 0, ..., 0, 0, 0],\n",
       "       [0, 1, 0, ..., 0, 0, 0],\n",
       "       [0, 1, 0, ..., 0, 0, 0]])"
      ]
     },
     "execution_count": 64,
     "metadata": {},
     "output_type": "execute_result"
    }
   ],
   "source": [
    "servicos = []\n",
    "for row in df[\"secs\"]:\n",
    "    servicos.append([1 if classe in row.replace(\" \", \"\").split(\",\") else 0 for classe in classes])\n",
    "\n",
    "servicos = np.array(servicos)\n",
    "servicos.shape\n",
    "servicos"
   ]
  },
  {
   "cell_type": "code",
   "execution_count": 109,
   "metadata": {},
   "outputs": [
    {
     "data": {
      "text/plain": [
       "array([82., 62., 58., 13.,  1.,  1.,  4.,  7.,  7.])"
      ]
     },
     "execution_count": 109,
     "metadata": {},
     "output_type": "execute_result"
    }
   ],
   "source": [
    "soma = np.zeros(len(servicos[0]))\n",
    "for i in range(len(servicos)):\n",
    "    soma += servicos[i]\n",
    "\n",
    "soma"
   ]
  },
  {
   "cell_type": "code",
   "execution_count": 65,
   "metadata": {},
   "outputs": [
    {
     "data": {
      "image/png": "[encoded data removed]",
      "text/plain": [
       "<Figure size 800x800 with 1 Axes>"
      ]
     },
     "metadata": {},
     "output_type": "display_data"
    }
   ],
   "source": [
    "# Size of the image 10x10\n",
    "plt.figure(figsize=(8,8))\n",
    "plt.imshow(servicos, cmap='hot')\n",
    "plt.show()"
   ]
  },
  {
   "cell_type": "code",
   "execution_count": 92,
   "metadata": {},
   "outputs": [],
   "source": [
    "# Split the data in train and test\n",
    "from sklearn.model_selection import train_test_split\n",
    "from sklearn.multioutput import MultiOutputClassifier\n",
    "\n",
    "X_train, X_test, y_train, y_test = train_test_split(matrix, servicos, test_size=0.33)\n",
    "randon_forest = MultiOutputClassifier(RandomForestClassifier(n_estimators=100)).fit(X_train,y_train)\n",
    "\n",
    "# Predict the test data\n",
    "y_pred = randon_forest.predict(X_test)"
   ]
  },
  {
   "cell_type": "code",
   "execution_count": 93,
   "metadata": {},
   "outputs": [
    {
     "data": {
      "text/plain": [
       "array([51., 42., 45.,  8.,  1.,  0.,  3.,  5.,  4.])"
      ]
     },
     "execution_count": 93,
     "metadata": {},
     "output_type": "execute_result"
    }
   ],
   "source": [
    "soma = np.zeros(len(y_train[0]))\n",
    "for i in range(len(y_train)):\n",
    "    soma += y_train[i]\n",
    "\n",
    "soma"
   ]
  },
  {
   "cell_type": "code",
   "execution_count": 94,
   "metadata": {},
   "outputs": [
    {
     "data": {
      "text/plain": [
       "array([31., 20., 13.,  5.,  0.,  1.,  1.,  2.,  3.])"
      ]
     },
     "execution_count": 94,
     "metadata": {},
     "output_type": "execute_result"
    }
   ],
   "source": [
    "soma = np.zeros(len(y_test[0]))\n",
    "for i in range(len(y_test)):\n",
    "    soma += y_test[i]\n",
    "\n",
    "soma"
   ]
  },
  {
   "cell_type": "code",
   "execution_count": 96,
   "metadata": {},
   "outputs": [
    {
     "name": "stdout",
     "output_type": "stream",
     "text": [
      "1 0.7142857142857143\n",
      "2 0.8571428571428571\n",
      "3 1.0\n",
      "4 0.9682539682539683\n",
      "6 1.0\n",
      "8 0.9841269841269841\n",
      "10 0.9841269841269841\n",
      "11 0.9841269841269841\n",
      "12 0.9841269841269841\n"
     ]
    }
   ],
   "source": [
    "# Calculate the accuracy\n",
    "from sklearn.metrics import accuracy_score\n",
    "for i in range(0, len(classes)):\n",
    "    print(classes[i], accuracy_score(y_test[:,i], y_pred[:,i]))"
   ]
  },
  {
   "cell_type": "code",
   "execution_count": 97,
   "metadata": {},
   "outputs": [
    {
     "data": {
      "text/plain": [
       "[RandomForestClassifier(),\n",
       " RandomForestClassifier(),\n",
       " RandomForestClassifier(),\n",
       " RandomForestClassifier(),\n",
       " RandomForestClassifier(),\n",
       " RandomForestClassifier(),\n",
       " RandomForestClassifier(),\n",
       " RandomForestClassifier(),\n",
       " RandomForestClassifier()]"
      ]
     },
     "execution_count": 97,
     "metadata": {},
     "output_type": "execute_result"
    }
   ],
   "source": [
    "randon_forest.estimators_"
   ]
  },
  {
   "cell_type": "code",
   "execution_count": 98,
   "metadata": {},
   "outputs": [
    {
     "name": "stdout",
     "output_type": "stream",
     "text": [
      "1)  1. mountain (0.103404) \t2. sky (0.062662) \t3. scenery (0.029445) \t4. hill (0.024291) \t5. perch (0.020365) \t6. hillside (0.020294) \t7. sit (0.020004) \t8. city (0.018958) \t9. bird (0.017996) \t10. peak (0.016664) \t\n",
      "2)  1. valley (0.082421) \t2. city (0.080973) \t3. scenery (0.056732) \t4. hill (0.048503) \t5. peak (0.042969) \t6. cityview (0.036612) \t7. hillside (0.026204) \t8. lake (0.025858) \t9. surround (0.022799) \t10. cityskyline (0.022018) \t\n",
      "3)  1. mountain (0.064589) \t2. sit (0.060044) \t3. bird (0.049934) \t4. branch (0.048145) \t5. tree (0.043464) \t6. perch (0.041606) \t7. plant (0.041273) \t8. limb (0.037954) \t9. treebranch (0.032875) \t10. hill (0.032759) \t\n",
      "4)  1. rocky (0.181884) \t2. stone (0.113461) \t3. rockformation (0.106618) \t4. rockface (0.068457) \t5. boulder (0.064419) \t6. cliff (0.046537) \t7. stump (0.034068) \t8. stand (0.021824) \t9. city (0.020970) \t10. terrain (0.019432) \t\n",
      "6)  1. stool (0.218924) \t2. ledge (0.129301) \t3. urban (0.096721) \t4. walk (0.075288) \t5. sun (0.067869) \t6. sunset (0.067405) \t7. cityskyline (0.060231) \t8. person (0.056405) \t9. hill (0.026605) \t10. tree (0.022371) \t\n",
      "8)  1. yellow (0.000000) \t2. field (0.000000) \t3. grassy (0.000000) \t4. grassland (0.000000) \t5. grass (0.000000) \t6. goggles (0.000000) \t7. girl (0.000000) \t8. forestfloor (0.000000) \t9. forest (0.000000) \t10. food (0.000000) \t\n",
      "10)  1. profile (0.077499) \t2. pose (0.076982) \t3. stare (0.073011) \t4. plaza (0.059990) \t5. hotel (0.053105) \t6. goggles (0.044388) \t7. woman (0.039966) \t8. dress (0.038901) \t9. veil (0.037702) \t10. girl (0.037549) \t\n",
      "11)  1. dam (0.170356) \t2. water (0.144720) \t3. surround (0.106961) \t4. lake (0.090078) \t5. reservoir (0.064531) \t6. lagoon (0.045461) \t7. sea (0.045167) \t8. scenery (0.043391) \t9. turquoise (0.033683) \t10. craterlake (0.033377) \t\n",
      "12)  1. pole (0.146557) \t2. tower (0.111598) \t3. dishantenna (0.085909) \t4. satellite (0.062156) \t5. blue (0.052465) \t6. antenna (0.051847) \t7. powerline (0.050549) \t8. roadsign (0.033816) \t9. mountain (0.033723) \t10. hill (0.033064) \t\n"
     ]
    }
   ],
   "source": [
    "for i in range(0, len(classes)):\n",
    "    \n",
    "    # Feature importance in the model\n",
    "    importances = randon_forest.estimators_[i].feature_importances_\n",
    "    std = np.std([tree.feature_importances_ for tree in randon_forest.estimators_], axis=0)\n",
    "    indices = np.argsort(importances)[::-1]\n",
    "    print(\"%s) \" % classes[i], end=\" \")\n",
    "    # Print the feature ranking\n",
    "    for f in range(0, 10):\n",
    "        print(\"%d. %s (%f) \" % (f + 1, bag_of_words[indices[f]], importances[indices[f]]), end=\"\\t\")\n",
    "    print(\"\")"
   ]
  },
  {
   "cell_type": "code",
   "execution_count": 108,
   "metadata": {},
   "outputs": [
    {
     "data": {
      "text/html": [
       "<div>\n",
       "<style scoped>\n",
       "    .dataframe tbody tr th:only-of-type {\n",
       "        vertical-align: middle;\n",
       "    }\n",
       "\n",
       "    .dataframe tbody tr th {\n",
       "        vertical-align: top;\n",
       "    }\n",
       "\n",
       "    .dataframe thead th {\n",
       "        text-align: right;\n",
       "    }\n",
       "</style>\n",
       "<table border=\"1\" class=\"dataframe\">\n",
       "  <thead>\n",
       "    <tr style=\"text-align: right;\">\n",
       "      <th></th>\n",
       "      <th>id</th>\n",
       "      <th>model_identified_tags</th>\n",
       "    </tr>\n",
       "  </thead>\n",
       "  <tbody>\n",
       "    <tr>\n",
       "      <th>0</th>\n",
       "      <td>52904733325</td>\n",
       "      <td>barrel | basement | beam | ceiling | container...</td>\n",
       "    </tr>\n",
       "    <tr>\n",
       "      <th>1</th>\n",
       "      <td>9241659630</td>\n",
       "      <td>balustrade | city | city view | hill | hillsid...</td>\n",
       "    </tr>\n",
       "    <tr>\n",
       "      <th>2</th>\n",
       "      <td>15187099604</td>\n",
       "      <td>bird | branch | brown | log | peak | perch | p...</td>\n",
       "    </tr>\n",
       "    <tr>\n",
       "      <th>3</th>\n",
       "      <td>2123658330</td>\n",
       "      <td>blanket | cloud | cloudy | green | hill | hill...</td>\n",
       "    </tr>\n",
       "    <tr>\n",
       "      <th>4</th>\n",
       "      <td>52904796013</td>\n",
       "      <td>bicycle | bicycle helmet | biker | dirt track ...</td>\n",
       "    </tr>\n",
       "    <tr>\n",
       "      <th>...</th>\n",
       "      <td>...</td>\n",
       "      <td>...</td>\n",
       "    </tr>\n",
       "    <tr>\n",
       "      <th>3082</th>\n",
       "      <td>9860799366</td>\n",
       "      <td>daisy | flower | grass | grow | plant | stem |...</td>\n",
       "    </tr>\n",
       "    <tr>\n",
       "      <th>3083</th>\n",
       "      <td>4793139481</td>\n",
       "      <td>backdrop | building | city | city skyline | ci...</td>\n",
       "    </tr>\n",
       "    <tr>\n",
       "      <th>3084</th>\n",
       "      <td>51131866624</td>\n",
       "      <td>blue | bud | floor | flower | grass | grow | p...</td>\n",
       "    </tr>\n",
       "    <tr>\n",
       "      <th>3085</th>\n",
       "      <td>15787763770</td>\n",
       "      <td>bloom | flower | grow | pink | plant | tree</td>\n",
       "    </tr>\n",
       "    <tr>\n",
       "      <th>3086</th>\n",
       "      <td>47960113737</td>\n",
       "      <td>area | brush | grass | green | grow | lush | p...</td>\n",
       "    </tr>\n",
       "  </tbody>\n",
       "</table>\n",
       "<p>3087 rows × 2 columns</p>\n",
       "</div>"
      ],
      "text/plain": [
       "               id                              model_identified_tags\n",
       "0     52904733325  barrel | basement | beam | ceiling | container...\n",
       "1      9241659630  balustrade | city | city view | hill | hillsid...\n",
       "2     15187099604  bird | branch | brown | log | peak | perch | p...\n",
       "3      2123658330  blanket | cloud | cloudy | green | hill | hill...\n",
       "4     52904796013  bicycle | bicycle helmet | biker | dirt track ...\n",
       "...           ...                                                ...\n",
       "3082   9860799366  daisy | flower | grass | grow | plant | stem |...\n",
       "3083   4793139481  backdrop | building | city | city skyline | ci...\n",
       "3084  51131866624  blue | bud | floor | flower | grass | grow | p...\n",
       "3085  15787763770        bloom | flower | grow | pink | plant | tree\n",
       "3086  47960113737  area | brush | grass | green | grow | lush | p...\n",
       "\n",
       "[3087 rows x 2 columns]"
      ]
     },
     "execution_count": 108,
     "metadata": {},
     "output_type": "execute_result"
    }
   ],
   "source": [
    "#  Columns =[\"id\", \"model_identified_tags\"])\n",
    "serra_null_gps = pd.read_csv(\"serra_tags_null_gps.csv\", sep=\";\")\n",
    "serra_null_gps = serra_null_gps[[\"id\", \"model_identified_tags\"]]\n",
    "serra_null_gps"
   ]
  },
  {
   "cell_type": "code",
   "execution_count": 38,
   "metadata": {},
   "outputs": [
    {
     "data": {
      "image/png": "[encoded data removed]",
      "text/plain": [
       "<Figure size 600x600 with 1 Axes>"
      ]
     },
     "metadata": {},
     "output_type": "display_data"
    }
   ],
   "source": [
    "# For each row in servicos, count the number of interactions between the classes\n",
    "interacao = np.zeros((servicos.shape[1], servicos.shape[1]))\n",
    "for row in servicos:\n",
    "    for i in range(len(row)):\n",
    "        for j in range(len(row)):\n",
    "            if row[i] == 1 and row[j] == 1:\n",
    "                interacao[i][j] += 1\n",
    "\n",
    "plt.figure(figsize=(6,6))\n",
    "plt.xlabel(\"Classes\")\n",
    "plt.xticks(range(len(classes)), classes, rotation=90)\n",
    "plt.ylabel(\"Classes\")\n",
    "plt.yticks(range(len(classes)), classes, rotation=90)\n",
    "plt.imshow(interacao, cmap='viridis')\n",
    "plt.show()"
   ]
  },
  {
   "cell_type": "code",
   "execution_count": 39,
   "metadata": {},
   "outputs": [
    {
     "data": {
      "text/plain": [
       "array([82.,  4.,  7.,  7., 62., 58., 13.,  1.,  1.])"
      ]
     },
     "execution_count": 39,
     "metadata": {},
     "output_type": "execute_result"
    }
   ],
   "source": [
    "# Get diagonal from interacao\n",
    "diagonal = np.array([interacao[i][i] for i in range(len(interacao))])\n",
    "diagonal"
   ]
  },
  {
   "cell_type": "code",
   "execution_count": 40,
   "metadata": {},
   "outputs": [
    {
     "data": {
      "image/png": "[encoded data removed]",
      "text/plain": [
       "<Figure size 640x480 with 1 Axes>"
      ]
     },
     "metadata": {},
     "output_type": "display_data"
    }
   ],
   "source": [
    "import networkx as nx\n",
    "\n",
    "np.fill_diagonal(interacao, 0)\n",
    "G = nx.from_numpy_array(interacao)\n",
    "\n",
    "# Relable the nodes to the classes names\n",
    "mapping = {i:classes[i] for i in range(len(classes))}\n",
    "G = nx.relabel_nodes(G, mapping)\n",
    "nx.draw(G, with_labels=True, font_weight='bold', node_size=diagonal*8)\n",
    "\n"
   ]
  }
 ],
 "metadata": {
  "kernelspec": {
   "display_name": "SE",
   "language": "python",
   "name": "python3"
  },
  "language_info": {
   "codemirror_mode": {
    "name": "ipython",
    "version": 3
   },
   "file_extension": ".py",
   "mimetype": "text/x-python",
   "name": "python",
   "nbconvert_exporter": "python",
   "pygments_lexer": "ipython3",
   "version": "3.10.12"
  },
  "orig_nbformat": 4
 },
 "nbformat": 4,
 "nbformat_minor": 2
}
