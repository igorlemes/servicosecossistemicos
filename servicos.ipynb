{
 "cells": [
  {
   "cell_type": "markdown",
   "metadata": {},
   "source": [
    "### Adicionadas bibliotecas necessárias "
   ]
  },
  {
   "cell_type": "code",
   "execution_count": null,
   "metadata": {},
   "outputs": [],
   "source": [
    "import pandas as pd\n",
    "import numpy as np\n",
    "from sklearn.ensemble import RandomForestClassifier\n",
    "from sklearn.multioutput import MultiOutputClassifier\n",
    "import pickle"
   ]
  },
  {
   "cell_type": "markdown",
   "metadata": {},
   "source": [
    "### Abrir o arquivo csv com os serviços classificados pelos pesquisadores "
   ]
  },
  {
   "cell_type": "code",
   "execution_count": 2,
   "metadata": {},
   "outputs": [
    {
     "data": {
      "text/html": [
       "<div>\n",
       "<style scoped>\n",
       "    .dataframe tbody tr th:only-of-type {\n",
       "        vertical-align: middle;\n",
       "    }\n",
       "\n",
       "    .dataframe tbody tr th {\n",
       "        vertical-align: top;\n",
       "    }\n",
       "\n",
       "    .dataframe thead th {\n",
       "        text-align: right;\n",
       "    }\n",
       "</style>\n",
       "<table border=\"1\" class=\"dataframe\">\n",
       "  <thead>\n",
       "    <tr style=\"text-align: right;\">\n",
       "      <th></th>\n",
       "      <th>id</th>\n",
       "      <th>tags</th>\n",
       "      <th>taken</th>\n",
       "      <th>latitude</th>\n",
       "      <th>longitude</th>\n",
       "      <th>accuracy</th>\n",
       "      <th>secs</th>\n",
       "    </tr>\n",
       "  </thead>\n",
       "  <tbody>\n",
       "    <tr>\n",
       "      <th>0</th>\n",
       "      <td>128886679</td>\n",
       "      <td>baseball hat | city | city view | cliff | hill...</td>\n",
       "      <td>14/4/2006 09:30</td>\n",
       "      <td>0</td>\n",
       "      <td>0</td>\n",
       "      <td>0</td>\n",
       "      <td>1,2,4,6,10</td>\n",
       "    </tr>\n",
       "    <tr>\n",
       "      <th>1</th>\n",
       "      <td>137155357</td>\n",
       "      <td>dam | hill | hillside | lagoon | lake | mounta...</td>\n",
       "      <td>29/4/2006 17:19</td>\n",
       "      <td>0</td>\n",
       "      <td>0</td>\n",
       "      <td>0</td>\n",
       "      <td>1,2,11</td>\n",
       "    </tr>\n",
       "    <tr>\n",
       "      <th>2</th>\n",
       "      <td>160198029</td>\n",
       "      <td>army | camouflage | dirt field | field | gun |...</td>\n",
       "      <td>1/1/2004 00:00</td>\n",
       "      <td>0</td>\n",
       "      <td>0</td>\n",
       "      <td>0</td>\n",
       "      <td>1,9</td>\n",
       "    </tr>\n",
       "    <tr>\n",
       "      <th>3</th>\n",
       "      <td>241150943</td>\n",
       "      <td>building | city | city skyline | city view | f...</td>\n",
       "      <td>11/9/2006 23:26</td>\n",
       "      <td>-19,950054</td>\n",
       "      <td>-43,908405</td>\n",
       "      <td>140</td>\n",
       "      <td>2</td>\n",
       "    </tr>\n",
       "    <tr>\n",
       "      <th>4</th>\n",
       "      <td>241150968</td>\n",
       "      <td>city | hill | hillside | mound | mountain | peak</td>\n",
       "      <td>11/9/2006 23:26</td>\n",
       "      <td>-19,950054</td>\n",
       "      <td>-43,908405</td>\n",
       "      <td>140</td>\n",
       "      <td>1,2</td>\n",
       "    </tr>\n",
       "  </tbody>\n",
       "</table>\n",
       "</div>"
      ],
      "text/plain": [
       "          id                                               tags  \\\n",
       "0  128886679  baseball hat | city | city view | cliff | hill...   \n",
       "1  137155357  dam | hill | hillside | lagoon | lake | mounta...   \n",
       "2  160198029  army | camouflage | dirt field | field | gun |...   \n",
       "3  241150943  building | city | city skyline | city view | f...   \n",
       "4  241150968   city | hill | hillside | mound | mountain | peak   \n",
       "\n",
       "             taken    latitude   longitude  accuracy        secs  \n",
       "0  14/4/2006 09:30           0           0         0  1,2,4,6,10  \n",
       "1  29/4/2006 17:19           0           0         0      1,2,11  \n",
       "2   1/1/2004 00:00           0           0         0         1,9  \n",
       "3  11/9/2006 23:26  -19,950054  -43,908405       140           2  \n",
       "4  11/9/2006 23:26  -19,950054  -43,908405       140         1,2  "
      ]
     },
     "execution_count": 2,
     "metadata": {},
     "output_type": "execute_result"
    }
   ],
   "source": [
    "# Open the file with the data\n",
    "df = pd.read_csv(\"servicos_atualizado.csv\")\n",
    "df.dropna(inplace=True)\n",
    "df.head()"
   ]
  },
  {
   "cell_type": "markdown",
   "metadata": {},
   "source": [
    "### Para cada tag que foi identificada em todas as imagens a adicionamos em uma lista de tags, que será usada para representar binariamente se ela está presente ou não em cada serviço"
   ]
  },
  {
   "cell_type": "code",
   "execution_count": 3,
   "metadata": {},
   "outputs": [
    {
     "data": {
      "text/plain": [
       "368"
      ]
     },
     "execution_count": 3,
     "metadata": {},
     "output_type": "execute_result"
    }
   ],
   "source": [
    "# Create a bag of words and a matrix representing if that word is in the text\n",
    "bag_of_words = set()\n",
    "for row in df[\"tags\"]:\n",
    "    for word in row.replace(\" \", \"\").split(\"|\"):\n",
    "        bag_of_words.add(word)\n",
    "\n",
    "bag_of_words = list(bag_of_words)\n",
    "bag_of_words.sort()\n",
    "len(bag_of_words)"
   ]
  },
  {
   "cell_type": "markdown",
   "metadata": {},
   "source": [
    "### Listamos todos os serviços"
   ]
  },
  {
   "cell_type": "code",
   "execution_count": 4,
   "metadata": {},
   "outputs": [
    {
     "data": {
      "text/plain": [
       "['1', '2', '3', '4', '5', '6', '7', '8', '9', '10', '11', '12']"
      ]
     },
     "execution_count": 4,
     "metadata": {},
     "output_type": "execute_result"
    }
   ],
   "source": [
    "# Create a bag of words to represent the classes\n",
    "classes = set()\n",
    "for row in df[\"secs\"]:\n",
    "    for classe in row.replace(\" \", \"\").split(\",\"):\n",
    "        classes.add(int(classe))\n",
    "\n",
    "classes = list(classes)\n",
    "classes.sort()\n",
    "classes = [str(classe) for classe in classes]\n",
    "classes"
   ]
  },
  {
   "cell_type": "code",
   "execution_count": 5,
   "metadata": {},
   "outputs": [],
   "source": [
    "# Create a matrix where each row is a text and each column is a word\n",
    "matrix = []\n",
    "for row in df[\"tags\"]:\n",
    "    matrix.append([1 if word in row.replace(\" \", \"\").split(\"|\") else 0 for word in bag_of_words])\n",
    "\n",
    "matrix = np.array(matrix)"
   ]
  },
  {
   "cell_type": "code",
   "execution_count": 6,
   "metadata": {},
   "outputs": [
    {
     "data": {
      "text/plain": [
       "(249, 368)"
      ]
     },
     "execution_count": 6,
     "metadata": {},
     "output_type": "execute_result"
    }
   ],
   "source": [
    "matrix.shape"
   ]
  },
  {
   "cell_type": "code",
   "execution_count": 7,
   "metadata": {},
   "outputs": [
    {
     "data": {
      "image/png": "[encoded data removed]",
      "text/plain": [
       "<Figure size 600x600 with 1 Axes>"
      ]
     },
     "metadata": {},
     "output_type": "display_data"
    }
   ],
   "source": [
    "# Vizualize the matrix as a image\n",
    "import matplotlib.pyplot as plt\n",
    "# Size of the image 10x10\n",
    "plt.figure(figsize=(6,6))\n",
    "plt.imshow(matrix.T, cmap='hot')\n",
    "plt.show()"
   ]
  },
  {
   "cell_type": "code",
   "execution_count": 8,
   "metadata": {},
   "outputs": [
    {
     "data": {
      "text/plain": [
       "array([[1, 1, 0, ..., 1, 0, 0],\n",
       "       [1, 1, 0, ..., 0, 1, 0],\n",
       "       [1, 0, 0, ..., 0, 0, 0],\n",
       "       ...,\n",
       "       [1, 1, 0, ..., 0, 0, 0],\n",
       "       [0, 1, 0, ..., 0, 0, 0],\n",
       "       [0, 1, 0, ..., 0, 0, 0]])"
      ]
     },
     "execution_count": 8,
     "metadata": {},
     "output_type": "execute_result"
    }
   ],
   "source": [
    "servicos = []\n",
    "for row in df[\"secs\"]:\n",
    "    servicos.append([1 if classe in row.replace(\" \", \"\").split(\",\") else 0 for classe in classes])\n",
    "\n",
    "servicos = np.array(servicos)\n",
    "servicos.shape\n",
    "servicos"
   ]
  },
  {
   "cell_type": "code",
   "execution_count": 9,
   "metadata": {},
   "outputs": [
    {
     "data": {
      "text/plain": [
       "array([115.,  78.,  63.,  19.,  15.,  17.,  12.,  10.,  10.,   9.,  18.,\n",
       "        10.])"
      ]
     },
     "execution_count": 9,
     "metadata": {},
     "output_type": "execute_result"
    }
   ],
   "source": [
    "soma = np.zeros(len(servicos[0]))\n",
    "for i in range(len(servicos)):\n",
    "    soma += servicos[i]\n",
    "\n",
    "soma"
   ]
  },
  {
   "cell_type": "code",
   "execution_count": 10,
   "metadata": {},
   "outputs": [
    {
     "data": {
      "image/png": "[encoded data removed]",
      "text/plain": [
       "<Figure size 800x800 with 1 Axes>"
      ]
     },
     "metadata": {},
     "output_type": "display_data"
    }
   ],
   "source": [
    "# Size of the image 10x10\n",
    "plt.figure(figsize=(8,8))\n",
    "plt.imshow(servicos, cmap='hot')\n",
    "plt.show()"
   ]
  },
  {
   "cell_type": "code",
   "execution_count": 36,
   "metadata": {},
   "outputs": [],
   "source": [
    "# Split the data in train and test\n",
    "from sklearn.model_selection import train_test_split\n",
    "from sklearn.multioutput import MultiOutputClassifier\n",
    "\n",
    "X_train, X_test, y_train, y_test = train_test_split(matrix, servicos, test_size=0.33)\n",
    "randon_forest = MultiOutputClassifier(RandomForestClassifier(n_estimators=100)).fit(X_train,y_train)\n",
    "\n",
    "# Predict the test data\n",
    "y_pred = randon_forest.predict(X_test)"
   ]
  },
  {
   "cell_type": "code",
   "execution_count": 37,
   "metadata": {},
   "outputs": [
    {
     "data": {
      "text/plain": [
       "array([77., 56., 41., 16., 10., 12.,  9.,  9.,  6.,  7., 11.,  5.])"
      ]
     },
     "execution_count": 37,
     "metadata": {},
     "output_type": "execute_result"
    }
   ],
   "source": [
    "soma = np.zeros(len(y_train[0]))\n",
    "for i in range(len(y_train)):\n",
    "    soma += y_train[i]\n",
    "\n",
    "soma"
   ]
  },
  {
   "cell_type": "code",
   "execution_count": 38,
   "metadata": {},
   "outputs": [
    {
     "data": {
      "text/plain": [
       "array([38., 22., 22.,  3.,  5.,  5.,  3.,  1.,  4.,  2.,  7.,  5.])"
      ]
     },
     "execution_count": 38,
     "metadata": {},
     "output_type": "execute_result"
    }
   ],
   "source": [
    "soma = np.zeros(len(y_test[0]))\n",
    "for i in range(len(y_test)):\n",
    "    soma += y_test[i]\n",
    "\n",
    "soma"
   ]
  },
  {
   "cell_type": "code",
   "execution_count": 39,
   "metadata": {},
   "outputs": [
    {
     "name": "stdout",
     "output_type": "stream",
     "text": [
      "1 0.7590361445783133\n",
      "2 0.963855421686747\n",
      "3 0.9759036144578314\n",
      "4 0.9759036144578314\n",
      "5 0.9397590361445783\n",
      "6 0.927710843373494\n",
      "7 0.9759036144578314\n",
      "8 0.9879518072289156\n",
      "9 0.9518072289156626\n",
      "10 0.9759036144578314\n",
      "11 0.963855421686747\n",
      "12 0.963855421686747\n"
     ]
    }
   ],
   "source": [
    "# Calculate the accuracy\n",
    "from sklearn.metrics import accuracy_score\n",
    "for i in range(0, len(classes)):\n",
    "    print(classes[i], accuracy_score(y_test[:,i], y_pred[:,i]))"
   ]
  },
  {
   "cell_type": "code",
   "execution_count": 41,
   "metadata": {},
   "outputs": [],
   "source": [
    "# Save the models\n",
    "pickle.dump(randon_forest, open(\"randon_forest.pkl\", \"wb\"))\n",
    "pickle.dump(bag_of_words, open(\"bag_of_words.pkl\", \"wb\"))\n",
    "pickle.dump(classes, open(\"classes.pkl\", \"wb\"))"
   ]
  },
  {
   "cell_type": "code",
   "execution_count": 47,
   "metadata": {},
   "outputs": [
    {
     "name": "stdout",
     "output_type": "stream",
     "text": [
      "1)  1. mountain (0.070954) \t2. sky (0.037869) \t3. hill (0.036401) \t4. hillside (0.035503) \t5. building (0.017412) \t6. cloud (0.017163) \t7. peak (0.016404) \t8. city (0.015587) \t9. bird (0.015469) \t10. cityview (0.014665) \t11. cross (0.014297) \t12. suburb (0.014062) \t13. stand (0.013425) \t14. mountainview (0.012839) \t15. urban (0.012516) \t16. scenery (0.012411) \t17. cityskyline (0.011644) \t18. cloudy (0.010882) \t19. tree (0.010716) \t20. valley (0.010369) \t21. lush (0.010345) \t22. surround (0.010138) \t23. treebranch (0.010119) \t24. limb (0.009881) \t25. twig (0.009871) \t26. plant (0.009817) \t27. blanket (0.009179) \t28. plaza (0.009132) \t29. stone (0.009114) \t30. town (0.009093) \t31. water (0.008910) \t32. rockformation (0.008834) \t33. branch (0.008532) \t34. build (0.008391) \t35. man (0.008242) \t36. photo (0.008003) \t37. sea (0.007390) \t38. mountainpath (0.007009) \t39. sit (0.006863) \t40. lake (0.006861) \t41. streetsign (0.006663) \t42. boulder (0.006643) \t43. loom (0.006580) \t44. person (0.006497) \t45. horizon (0.006488) \t46. blue (0.006452) \t47. vegetation (0.006009) \t48. sun (0.005802) \t49. white (0.005733) \t50. dam (0.005609) \t\n",
      "2)  1. valley (0.078114) \t2. city (0.060592) \t3. scenery (0.048382) \t4. hill (0.039881) \t5. lake (0.036967) \t6. peak (0.036114) \t7. cityview (0.035481) \t8. hillside (0.026869) \t9. cityskyline (0.019804) \t10. tree (0.017602) \t11. suburb (0.017304) \t12. sky (0.017030) \t13. mountain (0.016890) \t14. vegetation (0.015683) \t15. cloud (0.015584) \t16. surround (0.015249) \t17. sun (0.013015) \t18. ledge (0.011987) \t19. horizon (0.011629) \t20. rockformation (0.011328) \t21. water (0.011213) \t22. lush (0.010763) \t23. stone (0.009599) \t24. cloudy (0.009457) \t25. sunset (0.009149) \t26. building (0.008901) \t27. urban (0.008721) \t28. sea (0.008458) \t29. shirtless (0.008443) \t30. town (0.008403) \t31. grass (0.008347) \t32. hiker (0.008055) \t33. stand (0.007883) \t34. selfie (0.007839) \t35. ray (0.006971) \t36. man (0.006748) \t37. plain (0.006122) \t38. dam (0.005956) \t39. constructionsite (0.005332) \t40. sit (0.005328) \t41. build (0.005006) \t42. bridge (0.004989) \t43. up (0.004795) \t44. parkbench (0.004702) \t45. branch (0.004576) \t46. rail (0.004402) \t47. scaffold (0.004319) \t48. blue (0.004274) \t49. terrain (0.004195) \t50. green (0.004138) \t\n",
      "3)  1. bird (0.059521) \t2. treebranch (0.056372) \t3. perch (0.048291) \t4. plant (0.046551) \t5. sit (0.043659) \t6. twig (0.040776) \t7. tree (0.031171) \t8. branch (0.030363) \t9. white (0.025072) \t10. flower (0.024360) \t11. limb (0.022034) \t12. mountain (0.021105) \t13. weed (0.019590) \t14. field (0.019455) \t15. vegetation (0.018925) \t16. child (0.018839) \t17. grassy (0.018284) \t18. wild (0.017588) \t19. grow (0.014198) \t20. hill (0.013689) \t21. grass (0.013330) \t22. lush (0.012301) \t23. city (0.012126) \t24. hillside (0.011902) \t25. yellow (0.011829) \t26. wood (0.011543) \t27. forest (0.010603) \t28. beak (0.009347) \t29. sky (0.008838) \t30. brush (0.008804) \t31. purple (0.008574) \t32. fern (0.007936) \t33. trail (0.006911) \t34. blue (0.006663) \t35. greenery (0.006569) \t36. stand (0.006557) \t37. leaf (0.006553) \t38. path (0.006319) \t39. pink (0.006252) \t40. close-up (0.006046) \t41. walk (0.005860) \t42. peak (0.005754) \t43. wildflower (0.005745) \t44. cloudy (0.004901) \t45. run (0.004794) \t46. cage (0.004637) \t47. backpack (0.004575) \t48. lead (0.004573) \t49. cityview (0.004514) \t50. jog (0.004507) \t\n",
      "4)  1. stone (0.139631) \t2. rocky (0.107383) \t3. rockformation (0.104466) \t4. boulder (0.048408) \t5. rockface (0.046899) \t6. cliff (0.043353) \t7. peak (0.035140) \t8. hiker (0.024795) \t9. arm (0.023208) \t10. valley (0.019285) \t11. suburb (0.019246) \t12. sky (0.019037) \t13. terrain (0.016102) \t14. cityview (0.015799) \t15. sea (0.014208) \t16. stump (0.012732) \t17. stand (0.012607) \t18. city (0.011851) \t19. hillside (0.011785) \t20. tree (0.011386) \t21. mountain (0.009732) \t22. lush (0.009471) \t23. hand (0.008703) \t24. blanket (0.008315) \t25. person (0.008272) \t26. ledge (0.008101) \t27. hike (0.007979) \t28. mountainpath (0.007978) \t29. man (0.007536) \t30. up (0.007423) \t31. vegetation (0.007245) \t32. cloudy (0.006992) \t33. climb (0.006990) \t34. climber (0.006854) \t35. hill (0.006584) \t36. cityskyline (0.006580) \t37. building (0.006165) \t38. animal (0.006081) \t39. stare (0.005751) \t40. jeans (0.005393) \t41. shine (0.005315) \t42. shirtless (0.005149) \t43. shirt (0.004734) \t44. blue (0.004536) \t45. muscle (0.004390) \t46. catch (0.004281) \t47. pose (0.004265) \t48. sun (0.004138) \t49. town (0.003687) \t50. urban (0.003576) \t\n",
      "5)  1. hike (0.049318) \t2. swimwear (0.045365) \t3. person (0.042907) \t4. up (0.037098) \t5. trail (0.032785) \t6. dirttrack (0.032511) \t7. bin (0.028246) \t8. baseballhat (0.023925) \t9. woman (0.022550) \t10. short (0.022528) \t11. man (0.022419) \t12. park (0.021954) \t13. yogamat (0.020782) \t14. mat (0.020074) \t15. yoga (0.019834) \t16. climber (0.019656) \t17. maraca (0.019421) \t18. walk (0.019121) \t19. practice (0.018718) \t20. brush (0.018550) \t21. child (0.018343) \t22. relax (0.017511) \t23. path (0.017502) \t24. dirtroad (0.016790) \t25. terrain (0.016484) \t26. ball (0.014582) \t27. boy (0.013675) \t28. meditation (0.012959) \t29. stand (0.012916) \t30. weapon (0.012809) \t31. vegetation (0.012452) \t32. ax (0.012294) \t33. hiker (0.011944) \t34. machete (0.011800) \t35. juggle (0.011028) \t36. hillside (0.010291) \t37. lawn (0.010147) \t38. cliff (0.009656) \t39. toy (0.009641) \t40. shirt (0.008834) \t41. tool (0.008611) \t42. shirtless (0.008482) \t43. blade (0.007603) \t44. hill (0.007407) \t45. climb (0.007114) \t46. couple (0.007106) \t47. sky (0.006773) \t48. grass (0.006600) \t49. sit (0.006467) \t50. girl (0.006148) \t\n",
      "6)  1. child (0.057987) \t2. pose (0.053784) \t3. person (0.046431) \t4. selfie (0.035996) \t5. man (0.027152) \t6. stand (0.025623) \t7. wear (0.025214) \t8. shirtless (0.023495) \t9. dirttrack (0.021886) \t10. dawn (0.020540) \t11. townsquare (0.020205) \t12. cityview (0.018918) \t13. arm (0.018726) \t14. groupphoto (0.017306) \t15. boy (0.016938) \t16. jog (0.016567) \t17. treetrunk (0.015831) \t18. mountain (0.015025) \t19. stone (0.014875) \t20. hillside (0.014623) \t21. red (0.013687) \t22. shirt (0.013675) \t23. sky (0.013673) \t24. girl (0.013369) \t25. catch (0.013340) \t26. hiker (0.012942) \t27. hike (0.012179) \t28. hill (0.011599) \t29. forest (0.011561) \t30. walk (0.011534) \t31. short (0.011384) \t32. sunrise (0.010958) \t33. goggles (0.010674) \t34. peak (0.010566) \t35. hand (0.010534) \t36. wood (0.010257) \t37. ledge (0.010196) \t38. city (0.009821) \t39. suburb (0.009676) \t40. valley (0.009514) \t41. horizon (0.009163) \t42. palmtree (0.008816) \t43. play (0.008583) \t44. swimwear (0.008530) \t45. plaza (0.008316) \t46. run (0.008290) \t47. path (0.008119) \t48. trail (0.007597) \t49. lush (0.007300) \t50. plain (0.007249) \t\n",
      "7)  1. plaque (0.122082) \t2. writing (0.107920) \t3. wall (0.095415) \t4. landscape (0.037996) \t5. monument (0.034971) \t6. red (0.034426) \t7. sign (0.030146) \t8. mountainlandscape (0.028631) \t9. drawing (0.022534) \t10. mark (0.021401) \t11. vent (0.021373) \t12. lava (0.020940) \t13. stool (0.020490) \t14. hot (0.020260) \t15. create (0.019867) \t16. bench (0.015864) \t17. volcano (0.014754) \t18. music (0.013878) \t19. shadow (0.013757) \t20. flow (0.013037) \t21. blade (0.012863) \t22. machete (0.011348) \t23. write (0.010288) \t24. instrument (0.010276) \t25. sculpture (0.009870) \t26. ax (0.009601) \t27. gun (0.009549) \t28. band (0.009524) \t29. perform (0.008646) \t30. parkbench (0.008406) \t31. concert (0.008138) \t32. explosion (0.008092) \t33. sword (0.007760) \t34. profile (0.007730) \t35. outdoor (0.007715) \t36. hill (0.007684) \t37. tool (0.007618) \t38. lush (0.007182) \t39. weapon (0.006612) \t40. hand (0.006441) \t41. guitarist (0.006012) \t42. green (0.005689) \t43. building (0.005193) \t44. sky (0.005018) \t45. stage (0.004770) \t46. city (0.004757) \t47. picnictable (0.004572) \t48. tree (0.004461) \t49. black (0.004292) \t50. park (0.004177) \t\n",
      "8)  1. cross (0.137660) \t2. crucifix (0.085513) \t3. plaza (0.082656) \t4. floor (0.050186) \t5. relax (0.042614) \t6. pole (0.036142) \t7. streetsign (0.032872) \t8. sunshine (0.028892) \t9. shine (0.028230) \t10. mat (0.026933) \t11. practice (0.024492) \t12. meditation (0.024485) \t13. palmtree (0.020261) \t14. yogamat (0.019791) \t15. yoga (0.016766) \t16. ray (0.015724) \t17. hill (0.015529) \t18. townsquare (0.013262) \t19. mountain (0.012836) \t20. blue (0.012606) \t21. sculpture (0.012326) \t22. hillside (0.011007) \t23. city (0.010665) \t24. park (0.009874) \t25. tree (0.009803) \t26. lawn (0.009741) \t27. sun (0.009232) \t28. sky (0.009068) \t29. cloudy (0.008855) \t30. mountainview (0.008771) \t31. girl (0.007174) \t32. woman (0.006102) \t33. lush (0.005602) \t34. blanket (0.005566) \t35. goggles (0.005398) \t36. peak (0.005377) \t37. stand (0.005113) \t38. sit (0.005054) \t39. road (0.005005) \t40. dark (0.004704) \t41. cloud (0.004655) \t42. person (0.004339) \t43. walk (0.004263) \t44. building (0.004184) \t45. grass (0.004037) \t46. cityview (0.003813) \t47. hotel (0.003747) \t48. catch (0.003517) \t49. grassy (0.003271) \t50. sunset (0.003236) \t\n",
      "9)  1. child (0.132611) \t2. run (0.058316) \t3. backpack (0.045039) \t4. student (0.034397) \t5. couple (0.032083) \t6. treetrunk (0.029124) \t7. wear (0.029060) \t8. boy (0.028757) \t9. dirttrack (0.027191) \t10. jog (0.026237) \t11. baseballhat (0.025924) \t12. girl (0.025194) \t13. rail (0.024569) \t14. trail (0.024519) \t15. shirt (0.024212) \t16. walk (0.021526) \t17. fence (0.020334) \t18. person (0.019990) \t19. hill (0.019671) \t20. man (0.017893) \t21. balustrade (0.017058) \t22. pose (0.017048) \t23. hillside (0.016351) \t24. play (0.014725) \t25. red (0.014536) \t26. mountain (0.013500) \t27. forest (0.013406) \t28. stand (0.013061) \t29. peak (0.012620) \t30. lush (0.012495) \t31. wood (0.012153) \t32. brush (0.010600) \t33. woman (0.009526) \t34. vegetation (0.008575) \t35. cityview (0.008225) \t36. path (0.008048) \t37. hike (0.007765) \t38. muscle (0.006511) \t39. swimwear (0.005473) \t40. sky (0.005386) \t41. city (0.005237) \t42. shirtless (0.005034) \t43. tree (0.005018) \t44. park (0.003970) \t45. plaza (0.003543) \t46. up (0.003536) \t47. instrument (0.003372) \t48. barrel (0.003214) \t49. cross (0.003117) \t50. boot (0.002929) \t\n",
      "10)  1. muscle (0.069754) \t2. man (0.046250) \t3. shirtless (0.040044) \t4. arm (0.037294) \t5. person (0.031512) \t6. suburb (0.031380) \t7. pose (0.030973) \t8. stone (0.030270) \t9. city (0.028706) \t10. shirt (0.028671) \t11. child (0.027656) \t12. stand (0.027205) \t13. boy (0.022958) \t14. girl (0.022408) \t15. hill (0.022296) \t16. hand (0.021440) \t17. hiker (0.020570) \t18. catch (0.019083) \t19. peak (0.018817) \t20. grass (0.017971) \t21. path (0.017800) \t22. woman (0.016973) \t23. stare (0.014630) \t24. blanket (0.014308) \t25. swimwear (0.013020) \t26. selfie (0.013009) \t27. vegetation (0.013006) \t28. brush (0.012456) \t29. hillside (0.012344) \t30. lush (0.010930) \t31. practice (0.010717) \t32. yogamat (0.010556) \t33. lawn (0.010540) \t34. mat (0.010075) \t35. meditation (0.009807) \t36. mountain (0.009806) \t37. bin (0.009753) \t38. jeans (0.008863) \t39. sky (0.008661) \t40. hike (0.008642) \t41. cliff (0.008317) \t42. cityview (0.008206) \t43. valley (0.007806) \t44. relax (0.006926) \t45. rockformation (0.006529) \t46. yoga (0.006087) \t47. cityskyline (0.005796) \t48. ledge (0.005781) \t49. dirttrack (0.005742) \t50. walk (0.005237) \t\n",
      "11)  1. plaque (0.114587) \t2. wall (0.083687) \t3. dam (0.083474) \t4. writing (0.051750) \t5. water (0.051193) \t6. sign (0.049175) \t7. surround (0.040617) \t8. monument (0.039204) \t9. houseexterior (0.028826) \t10. lake (0.025840) \t11. house (0.025451) \t12. postcard (0.022357) \t13. hot (0.018978) \t14. sea (0.017892) \t15. scenery (0.017691) \t16. mark (0.016659) \t17. vent (0.015316) \t18. mountain (0.014878) \t19. volcano (0.014491) \t20. reservoir (0.013238) \t21. red (0.012594) \t22. explosion (0.012429) \t23. hillside (0.012189) \t24. blue (0.011341) \t25. write (0.010838) \t26. sky (0.010722) \t27. building (0.009751) \t28. hill (0.008484) \t29. parkbench (0.008273) \t30. create (0.008157) \t31. bench (0.007555) \t32. picnictable (0.007508) \t33. tree (0.007454) \t34. lava (0.007012) \t35. white (0.006887) \t36. craterlake (0.006817) \t37. city (0.006578) \t38. black (0.005898) \t39. cityview (0.005887) \t40. streetsign (0.005305) \t41. lush (0.005194) \t42. valley (0.005097) \t43. peak (0.004724) \t44. flow (0.004644) \t45. green (0.003207) \t46. suburb (0.003031) \t47. sculpture (0.002789) \t48. park (0.002665) \t49. urban (0.002589) \t50. stand (0.002147) \t\n",
      "12)  1. tower (0.135880) \t2. antenna (0.094329) \t3. satellite (0.080637) \t4. clear (0.055460) \t5. radio (0.050071) \t6. dishantenna (0.046951) \t7. pole (0.034583) \t8. powerline (0.033959) \t9. stare (0.033594) \t10. muscle (0.030633) \t11. blue (0.030070) \t12. peak (0.026794) \t13. tree (0.026793) \t14. shirtless (0.023402) \t15. shirt (0.020005) \t16. hillside (0.018643) \t17. rail (0.015753) \t18. mountain (0.015441) \t19. hill (0.014831) \t20. city (0.011417) \t21. person (0.011077) \t22. sky (0.010528) \t23. cityview (0.008197) \t24. stand (0.007912) \t25. cross (0.007693) \t26. building (0.007518) \t27. girl (0.007233) \t28. apartment (0.006080) \t29. loom (0.005884) \t30. green (0.005522) \t31. man (0.005310) \t32. stone (0.004982) \t33. cloudy (0.004657) \t34. urban (0.004374) \t35. sunset (0.003984) \t36. lush (0.003818) \t37. yellow (0.003756) \t38. plaque (0.003490) \t39. cityskyline (0.003372) \t40. town (0.003302) \t41. grass (0.003291) \t42. perch (0.002896) \t43. towerblock (0.002882) \t44. streetscene (0.002530) \t45. cliff (0.002507) \t46. wing (0.002417) \t47. citystreet (0.002400) \t48. walk (0.002335) \t49. ledge (0.002314) \t50. scenery (0.002293) \t\n"
     ]
    }
   ],
   "source": [
    "for i in range(0, len(classes)):\n",
    "    # Feature importance in the model\n",
    "    importances = randon_forest.estimators_[i].feature_importances_\n",
    "    std = np.std([tree.feature_importances_ for tree in randon_forest.estimators_], axis=0)\n",
    "    indices = np.argsort(importances)[::-1]\n",
    "    print(\"%s) \" % classes[i], end=\" \")\n",
    "    # Print the feature ranking\n",
    "    for f in range(0, 50):\n",
    "        print(\"%d. %s (%f) \" % (f + 1, bag_of_words[indices[f]], importances[indices[f]]), end=\"\\t\")\n",
    "    print(\"\")"
   ]
  },
  {
   "cell_type": "code",
   "execution_count": 48,
   "metadata": {},
   "outputs": [
    {
     "data": {
      "text/html": [
       "<div>\n",
       "<style scoped>\n",
       "    .dataframe tbody tr th:only-of-type {\n",
       "        vertical-align: middle;\n",
       "    }\n",
       "\n",
       "    .dataframe tbody tr th {\n",
       "        vertical-align: top;\n",
       "    }\n",
       "\n",
       "    .dataframe thead th {\n",
       "        text-align: right;\n",
       "    }\n",
       "</style>\n",
       "<table border=\"1\" class=\"dataframe\">\n",
       "  <thead>\n",
       "    <tr style=\"text-align: right;\">\n",
       "      <th></th>\n",
       "      <th>id</th>\n",
       "      <th>model_identified_tags</th>\n",
       "    </tr>\n",
       "  </thead>\n",
       "  <tbody>\n",
       "    <tr>\n",
       "      <th>0</th>\n",
       "      <td>52904733325</td>\n",
       "      <td>barrel | basement | beam | ceiling | container...</td>\n",
       "    </tr>\n",
       "    <tr>\n",
       "      <th>1</th>\n",
       "      <td>9241659630</td>\n",
       "      <td>balustrade | city | city view | hill | hillsid...</td>\n",
       "    </tr>\n",
       "    <tr>\n",
       "      <th>2</th>\n",
       "      <td>15187099604</td>\n",
       "      <td>bird | branch | brown | log | peak | perch | p...</td>\n",
       "    </tr>\n",
       "    <tr>\n",
       "      <th>3</th>\n",
       "      <td>2123658330</td>\n",
       "      <td>blanket | cloud | cloudy | green | hill | hill...</td>\n",
       "    </tr>\n",
       "    <tr>\n",
       "      <th>4</th>\n",
       "      <td>52904796013</td>\n",
       "      <td>bicycle | bicycle helmet | biker | dirt track ...</td>\n",
       "    </tr>\n",
       "    <tr>\n",
       "      <th>...</th>\n",
       "      <td>...</td>\n",
       "      <td>...</td>\n",
       "    </tr>\n",
       "    <tr>\n",
       "      <th>3082</th>\n",
       "      <td>9860799366</td>\n",
       "      <td>daisy | flower | grass | grow | plant | stem |...</td>\n",
       "    </tr>\n",
       "    <tr>\n",
       "      <th>3083</th>\n",
       "      <td>4793139481</td>\n",
       "      <td>backdrop | building | city | city skyline | ci...</td>\n",
       "    </tr>\n",
       "    <tr>\n",
       "      <th>3084</th>\n",
       "      <td>51131866624</td>\n",
       "      <td>blue | bud | floor | flower | grass | grow | p...</td>\n",
       "    </tr>\n",
       "    <tr>\n",
       "      <th>3085</th>\n",
       "      <td>15787763770</td>\n",
       "      <td>bloom | flower | grow | pink | plant | tree</td>\n",
       "    </tr>\n",
       "    <tr>\n",
       "      <th>3086</th>\n",
       "      <td>47960113737</td>\n",
       "      <td>area | brush | grass | green | grow | lush | p...</td>\n",
       "    </tr>\n",
       "  </tbody>\n",
       "</table>\n",
       "<p>3087 rows × 2 columns</p>\n",
       "</div>"
      ],
      "text/plain": [
       "               id                              model_identified_tags\n",
       "0     52904733325  barrel | basement | beam | ceiling | container...\n",
       "1      9241659630  balustrade | city | city view | hill | hillsid...\n",
       "2     15187099604  bird | branch | brown | log | peak | perch | p...\n",
       "3      2123658330  blanket | cloud | cloudy | green | hill | hill...\n",
       "4     52904796013  bicycle | bicycle helmet | biker | dirt track ...\n",
       "...           ...                                                ...\n",
       "3082   9860799366  daisy | flower | grass | grow | plant | stem |...\n",
       "3083   4793139481  backdrop | building | city | city skyline | ci...\n",
       "3084  51131866624  blue | bud | floor | flower | grass | grow | p...\n",
       "3085  15787763770        bloom | flower | grow | pink | plant | tree\n",
       "3086  47960113737  area | brush | grass | green | grow | lush | p...\n",
       "\n",
       "[3087 rows x 2 columns]"
      ]
     },
     "execution_count": 48,
     "metadata": {},
     "output_type": "execute_result"
    }
   ],
   "source": [
    "#  Columns =[\"id\", \"model_identified_tags\"])\n",
    "serra_null_gps = pd.read_csv(\"serra_tags_null_gps.csv\", sep=\";\")\n",
    "serra_null_gps = serra_null_gps[[\"id\", \"model_identified_tags\"]]\n",
    "serra_null_gps"
   ]
  },
  {
   "cell_type": "code",
   "execution_count": 49,
   "metadata": {},
   "outputs": [],
   "source": [
    "# Create a matrix where each row is a text and each column is a word\n",
    "null_tags = []\n",
    "for row in serra_null_gps[\"model_identified_tags\"]:\n",
    "    null_tags.append([1 if word in row.replace(\" \", \"\").split(\"|\") else 0 for word in bag_of_words])\n",
    "\n",
    "null_tags = np.array(null_tags)\n",
    "results = randon_forest.predict(null_tags)"
   ]
  },
  {
   "cell_type": "code",
   "execution_count": 50,
   "metadata": {},
   "outputs": [
    {
     "data": {
      "text/html": [
       "<div>\n",
       "<style scoped>\n",
       "    .dataframe tbody tr th:only-of-type {\n",
       "        vertical-align: middle;\n",
       "    }\n",
       "\n",
       "    .dataframe tbody tr th {\n",
       "        vertical-align: top;\n",
       "    }\n",
       "\n",
       "    .dataframe thead th {\n",
       "        text-align: right;\n",
       "    }\n",
       "</style>\n",
       "<table border=\"1\" class=\"dataframe\">\n",
       "  <thead>\n",
       "    <tr style=\"text-align: right;\">\n",
       "      <th></th>\n",
       "      <th>id</th>\n",
       "      <th>model_identified_tags</th>\n",
       "      <th>1</th>\n",
       "      <th>2</th>\n",
       "      <th>3</th>\n",
       "      <th>4</th>\n",
       "      <th>5</th>\n",
       "      <th>6</th>\n",
       "      <th>7</th>\n",
       "      <th>8</th>\n",
       "      <th>9</th>\n",
       "      <th>10</th>\n",
       "      <th>11</th>\n",
       "      <th>12</th>\n",
       "    </tr>\n",
       "  </thead>\n",
       "  <tbody>\n",
       "    <tr>\n",
       "      <th>0</th>\n",
       "      <td>52904733325</td>\n",
       "      <td>barrel | basement | beam | ceiling | container...</td>\n",
       "      <td>0</td>\n",
       "      <td>0</td>\n",
       "      <td>0</td>\n",
       "      <td>0</td>\n",
       "      <td>0</td>\n",
       "      <td>0</td>\n",
       "      <td>0</td>\n",
       "      <td>0</td>\n",
       "      <td>0</td>\n",
       "      <td>0</td>\n",
       "      <td>0</td>\n",
       "      <td>0</td>\n",
       "    </tr>\n",
       "    <tr>\n",
       "      <th>1</th>\n",
       "      <td>9241659630</td>\n",
       "      <td>balustrade | city | city view | hill | hillsid...</td>\n",
       "      <td>1</td>\n",
       "      <td>1</td>\n",
       "      <td>0</td>\n",
       "      <td>0</td>\n",
       "      <td>0</td>\n",
       "      <td>0</td>\n",
       "      <td>0</td>\n",
       "      <td>0</td>\n",
       "      <td>0</td>\n",
       "      <td>0</td>\n",
       "      <td>0</td>\n",
       "      <td>0</td>\n",
       "    </tr>\n",
       "    <tr>\n",
       "      <th>2</th>\n",
       "      <td>15187099604</td>\n",
       "      <td>bird | branch | brown | log | peak | perch | p...</td>\n",
       "      <td>0</td>\n",
       "      <td>0</td>\n",
       "      <td>1</td>\n",
       "      <td>0</td>\n",
       "      <td>0</td>\n",
       "      <td>0</td>\n",
       "      <td>0</td>\n",
       "      <td>0</td>\n",
       "      <td>0</td>\n",
       "      <td>0</td>\n",
       "      <td>0</td>\n",
       "      <td>0</td>\n",
       "    </tr>\n",
       "    <tr>\n",
       "      <th>3</th>\n",
       "      <td>2123658330</td>\n",
       "      <td>blanket | cloud | cloudy | green | hill | hill...</td>\n",
       "      <td>1</td>\n",
       "      <td>0</td>\n",
       "      <td>0</td>\n",
       "      <td>0</td>\n",
       "      <td>0</td>\n",
       "      <td>0</td>\n",
       "      <td>0</td>\n",
       "      <td>0</td>\n",
       "      <td>0</td>\n",
       "      <td>0</td>\n",
       "      <td>0</td>\n",
       "      <td>0</td>\n",
       "    </tr>\n",
       "    <tr>\n",
       "      <th>4</th>\n",
       "      <td>52904796013</td>\n",
       "      <td>bicycle | bicycle helmet | biker | dirt track ...</td>\n",
       "      <td>0</td>\n",
       "      <td>0</td>\n",
       "      <td>0</td>\n",
       "      <td>0</td>\n",
       "      <td>0</td>\n",
       "      <td>0</td>\n",
       "      <td>0</td>\n",
       "      <td>0</td>\n",
       "      <td>0</td>\n",
       "      <td>0</td>\n",
       "      <td>0</td>\n",
       "      <td>0</td>\n",
       "    </tr>\n",
       "    <tr>\n",
       "      <th>...</th>\n",
       "      <td>...</td>\n",
       "      <td>...</td>\n",
       "      <td>...</td>\n",
       "      <td>...</td>\n",
       "      <td>...</td>\n",
       "      <td>...</td>\n",
       "      <td>...</td>\n",
       "      <td>...</td>\n",
       "      <td>...</td>\n",
       "      <td>...</td>\n",
       "      <td>...</td>\n",
       "      <td>...</td>\n",
       "      <td>...</td>\n",
       "      <td>...</td>\n",
       "    </tr>\n",
       "    <tr>\n",
       "      <th>3082</th>\n",
       "      <td>9860799366</td>\n",
       "      <td>daisy | flower | grass | grow | plant | stem |...</td>\n",
       "      <td>0</td>\n",
       "      <td>0</td>\n",
       "      <td>1</td>\n",
       "      <td>0</td>\n",
       "      <td>0</td>\n",
       "      <td>0</td>\n",
       "      <td>0</td>\n",
       "      <td>0</td>\n",
       "      <td>0</td>\n",
       "      <td>0</td>\n",
       "      <td>0</td>\n",
       "      <td>0</td>\n",
       "    </tr>\n",
       "    <tr>\n",
       "      <th>3083</th>\n",
       "      <td>4793139481</td>\n",
       "      <td>backdrop | building | city | city skyline | ci...</td>\n",
       "      <td>1</td>\n",
       "      <td>0</td>\n",
       "      <td>0</td>\n",
       "      <td>0</td>\n",
       "      <td>0</td>\n",
       "      <td>0</td>\n",
       "      <td>0</td>\n",
       "      <td>0</td>\n",
       "      <td>0</td>\n",
       "      <td>0</td>\n",
       "      <td>0</td>\n",
       "      <td>0</td>\n",
       "    </tr>\n",
       "    <tr>\n",
       "      <th>3084</th>\n",
       "      <td>51131866624</td>\n",
       "      <td>blue | bud | floor | flower | grass | grow | p...</td>\n",
       "      <td>0</td>\n",
       "      <td>0</td>\n",
       "      <td>1</td>\n",
       "      <td>0</td>\n",
       "      <td>0</td>\n",
       "      <td>0</td>\n",
       "      <td>0</td>\n",
       "      <td>0</td>\n",
       "      <td>0</td>\n",
       "      <td>0</td>\n",
       "      <td>0</td>\n",
       "      <td>0</td>\n",
       "    </tr>\n",
       "    <tr>\n",
       "      <th>3085</th>\n",
       "      <td>15787763770</td>\n",
       "      <td>bloom | flower | grow | pink | plant | tree</td>\n",
       "      <td>0</td>\n",
       "      <td>0</td>\n",
       "      <td>1</td>\n",
       "      <td>0</td>\n",
       "      <td>0</td>\n",
       "      <td>0</td>\n",
       "      <td>0</td>\n",
       "      <td>0</td>\n",
       "      <td>0</td>\n",
       "      <td>0</td>\n",
       "      <td>0</td>\n",
       "      <td>0</td>\n",
       "    </tr>\n",
       "    <tr>\n",
       "      <th>3086</th>\n",
       "      <td>47960113737</td>\n",
       "      <td>area | brush | grass | green | grow | lush | p...</td>\n",
       "      <td>0</td>\n",
       "      <td>0</td>\n",
       "      <td>1</td>\n",
       "      <td>0</td>\n",
       "      <td>0</td>\n",
       "      <td>0</td>\n",
       "      <td>0</td>\n",
       "      <td>0</td>\n",
       "      <td>0</td>\n",
       "      <td>0</td>\n",
       "      <td>0</td>\n",
       "      <td>0</td>\n",
       "    </tr>\n",
       "  </tbody>\n",
       "</table>\n",
       "<p>3087 rows × 14 columns</p>\n",
       "</div>"
      ],
      "text/plain": [
       "               id                              model_identified_tags  1  2  3  \\\n",
       "0     52904733325  barrel | basement | beam | ceiling | container...  0  0  0   \n",
       "1      9241659630  balustrade | city | city view | hill | hillsid...  1  1  0   \n",
       "2     15187099604  bird | branch | brown | log | peak | perch | p...  0  0  1   \n",
       "3      2123658330  blanket | cloud | cloudy | green | hill | hill...  1  0  0   \n",
       "4     52904796013  bicycle | bicycle helmet | biker | dirt track ...  0  0  0   \n",
       "...           ...                                                ... .. .. ..   \n",
       "3082   9860799366  daisy | flower | grass | grow | plant | stem |...  0  0  1   \n",
       "3083   4793139481  backdrop | building | city | city skyline | ci...  1  0  0   \n",
       "3084  51131866624  blue | bud | floor | flower | grass | grow | p...  0  0  1   \n",
       "3085  15787763770        bloom | flower | grow | pink | plant | tree  0  0  1   \n",
       "3086  47960113737  area | brush | grass | green | grow | lush | p...  0  0  1   \n",
       "\n",
       "      4  5  6  7  8  9  10  11  12  \n",
       "0     0  0  0  0  0  0   0   0   0  \n",
       "1     0  0  0  0  0  0   0   0   0  \n",
       "2     0  0  0  0  0  0   0   0   0  \n",
       "3     0  0  0  0  0  0   0   0   0  \n",
       "4     0  0  0  0  0  0   0   0   0  \n",
       "...  .. .. .. .. .. ..  ..  ..  ..  \n",
       "3082  0  0  0  0  0  0   0   0   0  \n",
       "3083  0  0  0  0  0  0   0   0   0  \n",
       "3084  0  0  0  0  0  0   0   0   0  \n",
       "3085  0  0  0  0  0  0   0   0   0  \n",
       "3086  0  0  0  0  0  0   0   0   0  \n",
       "\n",
       "[3087 rows x 14 columns]"
      ]
     },
     "execution_count": 50,
     "metadata": {},
     "output_type": "execute_result"
    }
   ],
   "source": [
    "# Turn the results into a dataframe and join with the original dataframe\n",
    "results_df = pd.DataFrame(results, columns=classes)\n",
    "results_df = pd.concat([serra_null_gps, results_df], axis=1)\n",
    "results_df"
   ]
  },
  {
   "cell_type": "code",
   "execution_count": 56,
   "metadata": {},
   "outputs": [
    {
     "data": {
      "text/html": [
       "<div>\n",
       "<style scoped>\n",
       "    .dataframe tbody tr th:only-of-type {\n",
       "        vertical-align: middle;\n",
       "    }\n",
       "\n",
       "    .dataframe tbody tr th {\n",
       "        vertical-align: top;\n",
       "    }\n",
       "\n",
       "    .dataframe thead th {\n",
       "        text-align: right;\n",
       "    }\n",
       "</style>\n",
       "<table border=\"1\" class=\"dataframe\">\n",
       "  <thead>\n",
       "    <tr style=\"text-align: right;\">\n",
       "      <th></th>\n",
       "      <th>id</th>\n",
       "      <th>model_identified_tags</th>\n",
       "      <th>1</th>\n",
       "      <th>2</th>\n",
       "      <th>3</th>\n",
       "      <th>4</th>\n",
       "      <th>5</th>\n",
       "      <th>6</th>\n",
       "      <th>7</th>\n",
       "      <th>8</th>\n",
       "      <th>9</th>\n",
       "      <th>10</th>\n",
       "      <th>11</th>\n",
       "      <th>12</th>\n",
       "      <th>predicted_classes</th>\n",
       "    </tr>\n",
       "  </thead>\n",
       "  <tbody>\n",
       "    <tr>\n",
       "      <th>0</th>\n",
       "      <td>52904733325</td>\n",
       "      <td>barrel | basement | beam | ceiling | container...</td>\n",
       "      <td>0</td>\n",
       "      <td>0</td>\n",
       "      <td>0</td>\n",
       "      <td>0</td>\n",
       "      <td>0</td>\n",
       "      <td>0</td>\n",
       "      <td>0</td>\n",
       "      <td>0</td>\n",
       "      <td>0</td>\n",
       "      <td>0</td>\n",
       "      <td>0</td>\n",
       "      <td>0</td>\n",
       "      <td></td>\n",
       "    </tr>\n",
       "    <tr>\n",
       "      <th>1</th>\n",
       "      <td>9241659630</td>\n",
       "      <td>balustrade | city | city view | hill | hillsid...</td>\n",
       "      <td>1</td>\n",
       "      <td>1</td>\n",
       "      <td>0</td>\n",
       "      <td>0</td>\n",
       "      <td>0</td>\n",
       "      <td>0</td>\n",
       "      <td>0</td>\n",
       "      <td>0</td>\n",
       "      <td>0</td>\n",
       "      <td>0</td>\n",
       "      <td>0</td>\n",
       "      <td>0</td>\n",
       "      <td>1,2</td>\n",
       "    </tr>\n",
       "    <tr>\n",
       "      <th>2</th>\n",
       "      <td>15187099604</td>\n",
       "      <td>bird | branch | brown | log | peak | perch | p...</td>\n",
       "      <td>0</td>\n",
       "      <td>0</td>\n",
       "      <td>1</td>\n",
       "      <td>0</td>\n",
       "      <td>0</td>\n",
       "      <td>0</td>\n",
       "      <td>0</td>\n",
       "      <td>0</td>\n",
       "      <td>0</td>\n",
       "      <td>0</td>\n",
       "      <td>0</td>\n",
       "      <td>0</td>\n",
       "      <td>3</td>\n",
       "    </tr>\n",
       "    <tr>\n",
       "      <th>3</th>\n",
       "      <td>2123658330</td>\n",
       "      <td>blanket | cloud | cloudy | green | hill | hill...</td>\n",
       "      <td>1</td>\n",
       "      <td>0</td>\n",
       "      <td>0</td>\n",
       "      <td>0</td>\n",
       "      <td>0</td>\n",
       "      <td>0</td>\n",
       "      <td>0</td>\n",
       "      <td>0</td>\n",
       "      <td>0</td>\n",
       "      <td>0</td>\n",
       "      <td>0</td>\n",
       "      <td>0</td>\n",
       "      <td>1</td>\n",
       "    </tr>\n",
       "    <tr>\n",
       "      <th>4</th>\n",
       "      <td>52904796013</td>\n",
       "      <td>bicycle | bicycle helmet | biker | dirt track ...</td>\n",
       "      <td>0</td>\n",
       "      <td>0</td>\n",
       "      <td>0</td>\n",
       "      <td>0</td>\n",
       "      <td>0</td>\n",
       "      <td>0</td>\n",
       "      <td>0</td>\n",
       "      <td>0</td>\n",
       "      <td>0</td>\n",
       "      <td>0</td>\n",
       "      <td>0</td>\n",
       "      <td>0</td>\n",
       "      <td></td>\n",
       "    </tr>\n",
       "    <tr>\n",
       "      <th>...</th>\n",
       "      <td>...</td>\n",
       "      <td>...</td>\n",
       "      <td>...</td>\n",
       "      <td>...</td>\n",
       "      <td>...</td>\n",
       "      <td>...</td>\n",
       "      <td>...</td>\n",
       "      <td>...</td>\n",
       "      <td>...</td>\n",
       "      <td>...</td>\n",
       "      <td>...</td>\n",
       "      <td>...</td>\n",
       "      <td>...</td>\n",
       "      <td>...</td>\n",
       "      <td>...</td>\n",
       "    </tr>\n",
       "    <tr>\n",
       "      <th>3082</th>\n",
       "      <td>9860799366</td>\n",
       "      <td>daisy | flower | grass | grow | plant | stem |...</td>\n",
       "      <td>0</td>\n",
       "      <td>0</td>\n",
       "      <td>1</td>\n",
       "      <td>0</td>\n",
       "      <td>0</td>\n",
       "      <td>0</td>\n",
       "      <td>0</td>\n",
       "      <td>0</td>\n",
       "      <td>0</td>\n",
       "      <td>0</td>\n",
       "      <td>0</td>\n",
       "      <td>0</td>\n",
       "      <td>3</td>\n",
       "    </tr>\n",
       "    <tr>\n",
       "      <th>3083</th>\n",
       "      <td>4793139481</td>\n",
       "      <td>backdrop | building | city | city skyline | ci...</td>\n",
       "      <td>1</td>\n",
       "      <td>0</td>\n",
       "      <td>0</td>\n",
       "      <td>0</td>\n",
       "      <td>0</td>\n",
       "      <td>0</td>\n",
       "      <td>0</td>\n",
       "      <td>0</td>\n",
       "      <td>0</td>\n",
       "      <td>0</td>\n",
       "      <td>0</td>\n",
       "      <td>0</td>\n",
       "      <td>1</td>\n",
       "    </tr>\n",
       "    <tr>\n",
       "      <th>3084</th>\n",
       "      <td>51131866624</td>\n",
       "      <td>blue | bud | floor | flower | grass | grow | p...</td>\n",
       "      <td>0</td>\n",
       "      <td>0</td>\n",
       "      <td>1</td>\n",
       "      <td>0</td>\n",
       "      <td>0</td>\n",
       "      <td>0</td>\n",
       "      <td>0</td>\n",
       "      <td>0</td>\n",
       "      <td>0</td>\n",
       "      <td>0</td>\n",
       "      <td>0</td>\n",
       "      <td>0</td>\n",
       "      <td>3</td>\n",
       "    </tr>\n",
       "    <tr>\n",
       "      <th>3085</th>\n",
       "      <td>15787763770</td>\n",
       "      <td>bloom | flower | grow | pink | plant | tree</td>\n",
       "      <td>0</td>\n",
       "      <td>0</td>\n",
       "      <td>1</td>\n",
       "      <td>0</td>\n",
       "      <td>0</td>\n",
       "      <td>0</td>\n",
       "      <td>0</td>\n",
       "      <td>0</td>\n",
       "      <td>0</td>\n",
       "      <td>0</td>\n",
       "      <td>0</td>\n",
       "      <td>0</td>\n",
       "      <td>3</td>\n",
       "    </tr>\n",
       "    <tr>\n",
       "      <th>3086</th>\n",
       "      <td>47960113737</td>\n",
       "      <td>area | brush | grass | green | grow | lush | p...</td>\n",
       "      <td>0</td>\n",
       "      <td>0</td>\n",
       "      <td>1</td>\n",
       "      <td>0</td>\n",
       "      <td>0</td>\n",
       "      <td>0</td>\n",
       "      <td>0</td>\n",
       "      <td>0</td>\n",
       "      <td>0</td>\n",
       "      <td>0</td>\n",
       "      <td>0</td>\n",
       "      <td>0</td>\n",
       "      <td>3</td>\n",
       "    </tr>\n",
       "  </tbody>\n",
       "</table>\n",
       "<p>3087 rows × 15 columns</p>\n",
       "</div>"
      ],
      "text/plain": [
       "               id                              model_identified_tags  1  2  3  \\\n",
       "0     52904733325  barrel | basement | beam | ceiling | container...  0  0  0   \n",
       "1      9241659630  balustrade | city | city view | hill | hillsid...  1  1  0   \n",
       "2     15187099604  bird | branch | brown | log | peak | perch | p...  0  0  1   \n",
       "3      2123658330  blanket | cloud | cloudy | green | hill | hill...  1  0  0   \n",
       "4     52904796013  bicycle | bicycle helmet | biker | dirt track ...  0  0  0   \n",
       "...           ...                                                ... .. .. ..   \n",
       "3082   9860799366  daisy | flower | grass | grow | plant | stem |...  0  0  1   \n",
       "3083   4793139481  backdrop | building | city | city skyline | ci...  1  0  0   \n",
       "3084  51131866624  blue | bud | floor | flower | grass | grow | p...  0  0  1   \n",
       "3085  15787763770        bloom | flower | grow | pink | plant | tree  0  0  1   \n",
       "3086  47960113737  area | brush | grass | green | grow | lush | p...  0  0  1   \n",
       "\n",
       "      4  5  6  7  8  9  10  11  12 predicted_classes  \n",
       "0     0  0  0  0  0  0   0   0   0                    \n",
       "1     0  0  0  0  0  0   0   0   0               1,2  \n",
       "2     0  0  0  0  0  0   0   0   0                 3  \n",
       "3     0  0  0  0  0  0   0   0   0                 1  \n",
       "4     0  0  0  0  0  0   0   0   0                    \n",
       "...  .. .. .. .. .. ..  ..  ..  ..               ...  \n",
       "3082  0  0  0  0  0  0   0   0   0                 3  \n",
       "3083  0  0  0  0  0  0   0   0   0                 1  \n",
       "3084  0  0  0  0  0  0   0   0   0                 3  \n",
       "3085  0  0  0  0  0  0   0   0   0                 3  \n",
       "3086  0  0  0  0  0  0   0   0   0                 3  \n",
       "\n",
       "[3087 rows x 15 columns]"
      ]
     },
     "execution_count": 56,
     "metadata": {},
     "output_type": "execute_result"
    }
   ],
   "source": [
    "# Predicted classes \n",
    "results_df[\"predicted_classes\"] = results_df.apply(lambda row: \",\".join([classes[i] for i in range(0, len(classes)) if row[classes[i]] == 1]), axis=1)\n",
    "results_df"
   ]
  },
  {
   "cell_type": "code",
   "execution_count": 59,
   "metadata": {},
   "outputs": [],
   "source": [
    "results_df.to_csv(\"results_predicted.csv\", sep=\";\", index=False)"
   ]
  },
  {
   "cell_type": "code",
   "execution_count": 58,
   "metadata": {},
   "outputs": [
    {
     "data": {
      "image/png": "[encoded data removed]",
      "text/plain": [
       "<Figure size 600x600 with 1 Axes>"
      ]
     },
     "metadata": {},
     "output_type": "display_data"
    }
   ],
   "source": [
    "# For each row in servicos, count the number of interactions between the classes\n",
    "interacao = np.zeros((servicos.shape[1], servicos.shape[1]))\n",
    "for row in servicos:\n",
    "    for i in range(len(row)):\n",
    "        for j in range(len(row)):\n",
    "            if row[i] == 1 and row[j] == 1:\n",
    "                interacao[i][j] += 1\n",
    "\n",
    "plt.figure(figsize=(6,6))\n",
    "plt.xlabel(\"Classes\")\n",
    "plt.xticks(range(len(classes)), classes, rotation=90)\n",
    "plt.ylabel(\"Classes\")\n",
    "plt.yticks(range(len(classes)), classes, rotation=90)\n",
    "plt.imshow(interacao, cmap='viridis')\n",
    "plt.show()"
   ]
  },
  {
   "cell_type": "code",
   "execution_count": 25,
   "metadata": {},
   "outputs": [
    {
     "data": {
      "text/plain": [
       "array([115.,  78.,  63.,  19.,  15.,  17.,  12.,  10.,  10.,   9.,  18.,\n",
       "        10.])"
      ]
     },
     "execution_count": 25,
     "metadata": {},
     "output_type": "execute_result"
    }
   ],
   "source": [
    "# Get diagonal from interacao\n",
    "diagonal = np.array([interacao[i][i] for i in range(len(interacao))])\n",
    "diagonal"
   ]
  },
  {
   "cell_type": "code",
   "execution_count": 40,
   "metadata": {},
   "outputs": [
    {
     "data": {
      "image/png": "[encoded data removed]",
      "text/plain": [
       "<Figure size 640x480 with 1 Axes>"
      ]
     },
     "metadata": {},
     "output_type": "display_data"
    }
   ],
   "source": [
    "import networkx as nx\n",
    "\n",
    "np.fill_diagonal(interacao, 0)\n",
    "G = nx.from_numpy_array(interacao)\n",
    "\n",
    "# Relable the nodes to the classes names\n",
    "mapping = {i:classes[i] for i in range(len(classes))}\n",
    "G = nx.relabel_nodes(G, mapping)\n",
    "nx.draw(G, with_labels=True, font_weight='bold', node_size=diagonal*8)\n",
    "\n"
   ]
  }
 ],
 "metadata": {
  "kernelspec": {
   "display_name": "SE",
   "language": "python",
   "name": "python3"
  },
  "language_info": {
   "codemirror_mode": {
    "name": "ipython",
    "version": 3
   },
   "file_extension": ".py",
   "mimetype": "text/x-python",
   "name": "python",
   "nbconvert_exporter": "python",
   "pygments_lexer": "ipython3",
   "version": "3.10.12"
  },
  "orig_nbformat": 4
 },
 "nbformat": 4,
 "nbformat_minor": 2
}
